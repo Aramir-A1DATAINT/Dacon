{
 "cells": [
  {
   "cell_type": "markdown",
   "metadata": {},
   "source": [
    "# normal equation "
   ]
  },
  {
   "cell_type": "code",
   "execution_count": 16,
   "metadata": {},
   "outputs": [],
   "source": [
    "import pandas as pd\n",
    "import numpy as np\n",
    "from sklearn.preprocessing import LabelEncoder"
   ]
  },
  {
   "cell_type": "code",
   "execution_count": 17,
   "metadata": {},
   "outputs": [],
   "source": [
    "iris = pd.read_csv('./data/iris_train.csv')"
   ]
  },
  {
   "cell_type": "code",
   "execution_count": 18,
   "metadata": {},
   "outputs": [],
   "source": [
    "iris = iris.drop('id',1 )"
   ]
  },
  {
   "cell_type": "code",
   "execution_count": 19,
   "metadata": {},
   "outputs": [],
   "source": [
    "y_petal = iris['petal width (cm)']"
   ]
  },
  {
   "cell_type": "code",
   "execution_count": 20,
   "metadata": {},
   "outputs": [],
   "source": [
    "y_sepal = iris['sepal width (cm)']"
   ]
  },
  {
   "cell_type": "code",
   "execution_count": 21,
   "metadata": {},
   "outputs": [],
   "source": [
    "iris = iris.drop(['petal width (cm)', 'sepal width (cm)'], 1)"
   ]
  },
  {
   "cell_type": "code",
   "execution_count": 22,
   "metadata": {},
   "outputs": [],
   "source": [
    "# labeling \n",
    "labeler = LabelEncoder()\n",
    "iris['species'] = labeler.fit_transform(iris['species'])"
   ]
  },
  {
   "cell_type": "markdown",
   "metadata": {},
   "source": [
    "# 예측식 "
   ]
  },
  {
   "cell_type": "markdown",
   "metadata": {},
   "source": [
    "$ \\hat{y} = w_1x_1 + w_2x_2 + w_3x_3 + w_4$"
   ]
  },
  {
   "cell_type": "markdown",
   "metadata": {},
   "source": [
    "# 목적식"
   ]
  },
  {
   "cell_type": "markdown",
   "metadata": {},
   "source": [
    "$\\hat{y} - y = e$: 0에 최대한 가까운값"
   ]
  },
  {
   "cell_type": "markdown",
   "metadata": {},
   "source": [
    "$\\frac{1}{2}(\\hat{y} - {y})^2$ = e : 이 최대한 0에 가깝게 하는것 "
   ]
  },
  {
   "cell_type": "markdown",
   "metadata": {},
   "source": [
    "- 오차 수식에 제곱하는이유 \n",
    "- 목적식의 convexity(볼록한 정도) 유지하고 극값이 최소점인것을 보장하기 위함\n",
    "- 미분하여 0인 점이 최소점이라는 것도 보장됨으로"
   ]
  },
  {
   "cell_type": "code",
   "execution_count": 26,
   "metadata": {},
   "outputs": [],
   "source": [
    "X = np.array(iris) "
   ]
  },
  {
   "cell_type": "code",
   "execution_count": 31,
   "metadata": {},
   "outputs": [],
   "source": [
    "ones = np.ones_like(X[:,0])\n",
    "ones = ones.reshape(75, -1) "
   ]
  },
  {
   "cell_type": "code",
   "execution_count": 27,
   "metadata": {
    "scrolled": true
   },
   "outputs": [
    {
     "data": {
      "text/plain": [
       "array([[0. , 4.4, 1.4, 1. ],\n",
       "       [1. , 6.4, 4.5, 1. ],\n",
       "       [2. , 6.2, 4.8, 1. ],\n",
       "       [2. , 7.2, 6.1, 1. ],\n",
       "       [0. , 4.9, 1.4, 1. ],\n",
       "       [2. , 6.5, 5.8, 1. ],\n",
       "       [0. , 4.3, 1.1, 1. ],\n",
       "       [1. , 6.7, 5. , 1. ],\n",
       "       [1. , 6.8, 4.8, 1. ],\n",
       "       [1. , 6.6, 4.4, 1. ]])"
      ]
     },
     "execution_count": 27,
     "metadata": {},
     "output_type": "execute_result"
    }
   ],
   "source": [
    "ones = np.ones_like(X[:,0]) # 1로만 되어있는 (75, ) 벡터 생성\n",
    "ones = ones.reshape(75, -1) # 2차원으로 변환 (75, 1)\n",
    "X = np.concatenate((X,ones), axis=1) # 기존 X와 concat 기존 X의 shape = (75, 3) -> 변환 뒤 X의 shape (75, 4)\n",
    "\n",
    "X[:10]"
   ]
  },
  {
   "cell_type": "code",
   "execution_count": 33,
   "metadata": {},
   "outputs": [
    {
     "data": {
      "text/plain": [
       "array([ 0.29159172, -0.10650362,  0.33433041,  0.25399605])"
      ]
     },
     "execution_count": 33,
     "metadata": {},
     "output_type": "execute_result"
    }
   ],
   "source": [
    "transpose_doted_X = X.T.dot(X) # X의 전치행렬 X.T 와 X 행렬곱\n",
    "inversed = np.linalg.inv(transpose_doted_X) # X.T dot X 의 역행렬 계산\n",
    "doted_inv_t = inversed.dot(X.T) # 역행렬과 전치행렬 행렬곱\n",
    "weight_petal = doted_inv_t.dot(y_petal) # 맞춰야하는 꽃잎 너비와 행렬곱 -> weight계산\n",
    "weight_petal"
   ]
  },
  {
   "cell_type": "code",
   "execution_count": 34,
   "metadata": {},
   "outputs": [
    {
     "data": {
      "text/plain": [
       "0.1339297513826664"
      ]
     },
     "execution_count": 34,
     "metadata": {},
     "output_type": "execute_result"
    }
   ],
   "source": [
    "prediction_petal = X.dot(weight_petal)\n",
    "error_petal = sum(abs(prediction_petal - y_petal)) / len(prediction_petal)\n",
    "error_petal"
   ]
  },
  {
   "cell_type": "code",
   "execution_count": null,
   "metadata": {},
   "outputs": [],
   "source": []
  }
 ],
 "metadata": {
  "kernelspec": {
   "display_name": "Python 3",
   "language": "python",
   "name": "python3"
  },
  "language_info": {
   "codemirror_mode": {
    "name": "ipython",
    "version": 3
   },
   "file_extension": ".py",
   "mimetype": "text/x-python",
   "name": "python",
   "nbconvert_exporter": "python",
   "pygments_lexer": "ipython3",
   "version": "3.8.3"
  }
 },
 "nbformat": 4,
 "nbformat_minor": 4
}
